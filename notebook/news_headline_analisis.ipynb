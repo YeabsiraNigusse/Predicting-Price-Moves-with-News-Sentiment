{
 "cells": [
  {
   "cell_type": "markdown",
   "metadata": {},
   "source": [
    "# News headline Analysis and Insight Report"
   ]
  },
  {
   "cell_type": "markdown",
   "metadata": {},
   "source": [
    "### 1.1 Load and inspect the data"
   ]
  },
  {
   "cell_type": "code",
   "execution_count": 1,
   "metadata": {},
   "outputs": [
    {
     "name": "stdout",
     "output_type": "stream",
     "text": [
      "Shape: (1407328, 6)\n",
      "   Unnamed: 0                                           headline  \\\n",
      "0           0            Stocks That Hit 52-Week Highs On Friday   \n",
      "1           1         Stocks That Hit 52-Week Highs On Wednesday   \n",
      "2           2                      71 Biggest Movers From Friday   \n",
      "3           3       46 Stocks Moving In Friday's Mid-Day Session   \n",
      "4           4  B of A Securities Maintains Neutral on Agilent...   \n",
      "\n",
      "                                                 url          publisher  \\\n",
      "0  https://www.benzinga.com/news/20/06/16190091/s...  Benzinga Insights   \n",
      "1  https://www.benzinga.com/news/20/06/16170189/s...  Benzinga Insights   \n",
      "2  https://www.benzinga.com/news/20/05/16103463/7...         Lisa Levin   \n",
      "3  https://www.benzinga.com/news/20/05/16095921/4...         Lisa Levin   \n",
      "4  https://www.benzinga.com/news/20/05/16095304/b...         Vick Meyer   \n",
      "\n",
      "                        date stock  \n",
      "0  2020-06-05 10:30:54-04:00     A  \n",
      "1  2020-06-03 10:45:20-04:00     A  \n",
      "2  2020-05-26 04:30:07-04:00     A  \n",
      "3  2020-05-22 12:45:06-04:00     A  \n",
      "4  2020-05-22 11:38:59-04:00     A  \n"
     ]
    }
   ],
   "source": [
    "import sys, os\n",
    "sys.path.insert(0, os.path.abspath('..'))\n",
    "\n",
    "import pandas as pd\n",
    "import matplotlib.pyplot as plt\n",
    "\n",
    "# --- Import functions from src ---\n",
    "from src.descriptive_stats import (\n",
    "    load_news_data, add_headline_length_features, compute_headline_stats\n",
    ")\n",
    "from src.publisher_analysis import (\n",
    "    extract_publisher_domain, top_publishers, top_publisher_domains\n",
    ")\n",
    "from src.date_analysis import (\n",
    "    parse_dates, daily_article_counts\n",
    ")\n",
    "from src.topic_modeling import (\n",
    "    create_lda_pipeline, fit_lda_pipeline,\n",
    "    extract_topics, get_feature_names, get_lda_model\n",
    ")\n",
    "\n",
    "\n",
    "# 1. Load data\n",
    "news = load_news_data(\"../data/raw_analyst_ratings.csv\")\n",
    "print(\"Shape:\", news.shape)\n",
    "print(news.head())"
   ]
  },
  {
   "cell_type": "markdown",
   "metadata": {},
   "source": [
    "### 1.2 Descriptive statistics on text lengths\n",
    "- Shape: (1407328, 6)\n",
    "\n",
    "- This means your dataset contains 1,407,328 rows (articles) and 6 columns (Unnamed: 0, headline, url, publisher, date, stock)."
   ]
  },
  {
   "cell_type": "code",
   "execution_count": 2,
   "metadata": {},
   "outputs": [
    {
     "name": "stdout",
     "output_type": "stream",
     "text": [
      "       headline_len_chars  headline_len_words\n",
      "count        1.407328e+06        1.407328e+06\n",
      "mean         7.312051e+01        1.141671e+01\n",
      "std          4.073531e+01        6.352997e+00\n",
      "min          3.000000e+00        1.000000e+00\n",
      "25%          4.700000e+01        7.000000e+00\n",
      "50%          6.400000e+01        1.000000e+01\n",
      "75%          8.700000e+01        1.300000e+01\n",
      "max          5.120000e+02        7.700000e+01\n"
     ]
    }
   ],
   "source": [
    "# 2. Descriptive headline stats\n",
    "\n",
    "news = add_headline_length_features(news)\n",
    "print(compute_headline_stats(news))"
   ]
  },
  {
   "cell_type": "markdown",
   "metadata": {},
   "source": [
    "#### Interpretation:\n",
    "\n",
    "- Most headlines are between 47 to 87 characters, or 7 to 13 words.\n",
    "\n",
    "- There’s a wide range, but the distribution looks normal with a bit of right skew (due to very long headlines).\n",
    "\n",
    "#### Why this matters:\n",
    "- This helps assess text complexity, design token limits for models, and understand how concise news headlines tend to be."
   ]
  },
  {
   "cell_type": "markdown",
   "metadata": {},
   "source": [
    "### 1.3. Count of articles per publisher"
   ]
  },
  {
   "cell_type": "code",
   "execution_count": 3,
   "metadata": {},
   "outputs": [
    {
     "name": "stdout",
     "output_type": "stream",
     "text": [
      "           publisher  n_articles\n",
      "0      Paul Quintaro      228373\n",
      "1         Lisa Levin      186979\n",
      "2  Benzinga Newsdesk      150484\n",
      "3      Charles Gross       96732\n",
      "4      Monica Gerson       82380\n",
      "5       Eddie Staley       57254\n",
      "6         Hal Lindon       49047\n",
      "7      ETF Professor       28489\n",
      "8         Juan Lopez       28438\n",
      "9     Benzinga Staff       28114\n"
     ]
    }
   ],
   "source": [
    "\n",
    "# 3. Publisher statistics\n",
    "publisher_stats = top_publishers(news)\n",
    "print(publisher_stats.head(10))"
   ]
  },
  {
   "cell_type": "markdown",
   "metadata": {},
   "source": [
    "#### Insight:\n",
    "\n",
    "- A few individual contributors dominate the feed.\n",
    "\n",
    "- Indicates the dataset is heavily influenced by a small number of journalists or bots, affecting topic balance."
   ]
  },
  {
   "cell_type": "markdown",
   "metadata": {},
   "source": [
    "### 1.4. Time-based publication trends"
   ]
  },
  {
   "cell_type": "code",
   "execution_count": 4,
   "metadata": {},
   "outputs": [
    {
     "data": {
      "text/plain": [
       "<Axes: title={'center': 'Daily Article Count'}, xlabel='date'>"
      ]
     },
     "execution_count": 4,
     "metadata": {},
     "output_type": "execute_result"
    },
    {
     "data": {
      "image/png": "[encoded data removed]",
      "text/plain": [
       "<Figure size 1200x500 with 1 Axes>"
      ]
     },
     "metadata": {},
     "output_type": "display_data"
    }
   ],
   "source": [
    "\n",
    "# 4. Time-based analysis\n",
    "news = parse_dates(news)\n",
    "daily_counts = daily_article_counts(news)\n",
    "daily_counts.plot(title=\"Daily Article Count\", figsize=(12, 5))"
   ]
  },
  {
   "cell_type": "markdown",
   "metadata": {},
   "source": [
    "### Article Frequency Over Time\n",
    "#### Interpretation:\n",
    "\n",
    "- There is a clear upward trend from 2010 to 2020.\n",
    "\n",
    "- Spikes suggest bursts of news activity—often around market events or earnings seasons.\n",
    "\n",
    "- Notable massive spike in 2020, possibly related to COVID-19 and market turmoil.\n",
    "\n",
    "#### Why this matters:\n",
    "\n",
    "- Helps detect high-news-density periods, which correlate with market volatility.\n",
    "\n",
    "- Traders can use this to identify event windows for strategy backtesting."
   ]
  },
  {
   "cell_type": "markdown",
   "metadata": {},
   "source": [
    "### 1.5. Publisher domain analysis"
   ]
  },
  {
   "cell_type": "code",
   "execution_count": null,
   "metadata": {},
   "outputs": [
    {
     "name": "stdout",
     "output_type": "stream",
     "text": [
      "publisher_domain\n",
      "benzinga.com              7937\n",
      "gmail.com                  139\n",
      "andyswan.com                 5\n",
      "investdiva.com               2\n",
      "tothetick.com                2\n",
      "eosdetroit.io                1\n",
      "forextraininggroup.com       1\n",
      "stockmetrix.net              1\n",
      "Name: count, dtype: int64\n"
     ]
    },
    {
     "ename": "",
     "evalue": "",
     "output_type": "error",
     "traceback": [
      "\u001b[1;31mThe Kernel crashed while executing code in the current cell or a previous cell. \n",
      "\u001b[1;31mPlease review the code in the cell(s) to identify a possible cause of the failure. \n",
      "\u001b[1;31mClick <a href='https://aka.ms/vscodeJupyterKernelCrash'>here</a> for more info. \n",
      "\u001b[1;31mView Jupyter <a href='command:jupyter.viewOutput'>log</a> for further details."
     ]
    }
   ],
   "source": [
    "\n",
    "# Extract and count publisher email domains\n",
    "news = extract_publisher_domain(news)\n",
    "domain_stats = top_publisher_domains(news)\n",
    "print(domain_stats)"
   ]
  },
  {
   "cell_type": "markdown",
   "metadata": {},
   "source": [
    "#### Interpretation:\n",
    "\n",
    "- benzinga.com is clearly the main content source.\n",
    "\n",
    "- Some email domains like gmail.com suggest occasional guest or external authors.\n",
    "\n",
    "#### Why this matters:\n",
    "- Knowing dominant publishers and sources helps you weigh their content when doing sentiment or event impact analysis."
   ]
  },
  {
   "cell_type": "markdown",
   "metadata": {},
   "source": [
    "### 1.6. Topic Modeling (lightweight keyword extraction)"
   ]
  },
  {
   "cell_type": "code",
   "execution_count": null,
   "metadata": {},
   "outputs": [],
   "source": [
    "\n",
    "# 5. Topic modeling\n",
    "lda_pipeline = create_lda_pipeline()\n",
    "lda_pipeline = fit_lda_pipeline(lda_pipeline, news[\"headline\"])\n",
    "lda_model = get_lda_model(lda_pipeline)\n",
    "feature_names = get_feature_names(lda_pipeline)\n",
    "\n",
    "\n",
    "topics = extract_topics(lda_model, feature_names)\n",
    "print(\"\\nExtracted Topics:\")\n",
    "for i, terms in enumerate(topics):\n",
    "    print(f\"Topic {i+1}: {', '.join(terms)}\")"
   ]
  },
  {
   "cell_type": "markdown",
   "metadata": {},
   "source": [
    "#### Interpretation:\n",
    "\n",
    "- Topic 1: Analyst price targets (e.g. \"buy\", \"raises\", \"price target\")\n",
    "\n",
    "- Topic 2: General financial news, company statements (e.g. \"announces\", \"earnings\", \"upgrades\")\n",
    "\n",
    "- Topic 3: Earnings report vocabulary (e.g. \"EPS\", \"Q4\", \"vs est\")\n",
    "\n",
    "- Topic 4: Market activity during the day (e.g. \"mid\", \"update\", \"session\")\n",
    "\n",
    "- Topic 5: Weekly stock movements (e.g. \"52-week\", \"movers\", \"ETFs\")\n",
    "\n",
    "#### Why this matters:\n",
    "\n",
    "- Topics show common themes in financial news.\n",
    "\n",
    "- Could be used for classifying news or building alert systems (e.g. notify on “earnings” or “price target” topics).\n",
    "\n"
   ]
  },
  {
   "cell_type": "code",
   "execution_count": null,
   "metadata": {},
   "outputs": [],
   "source": []
  }
 ],
 "metadata": {
  "kernelspec": {
   "display_name": ".venv",
   "language": "python",
   "name": "python3"
  },
  "language_info": {
   "codemirror_mode": {
    "name": "ipython",
    "version": 3
   },
   "file_extension": ".py",
   "mimetype": "text/x-python",
   "name": "python",
   "nbconvert_exporter": "python",
   "pygments_lexer": "ipython3",
   "version": "3.12.3"
  }
 },
 "nbformat": 4,
 "nbformat_minor": 2
}
