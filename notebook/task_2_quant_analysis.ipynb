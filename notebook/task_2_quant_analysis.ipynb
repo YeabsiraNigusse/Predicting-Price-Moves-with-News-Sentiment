{
 "cells": [
  {
   "cell_type": "code",
   "execution_count": 1,
   "metadata": {},
   "outputs": [],
   "source": [
    "import pandas as pd\n",
    "\n",
    "prices_A = pd.read_csv(\"../data/yfinance_data/AAPL_historical_data.csv\", parse_dates=[\"Date\"])"
   ]
  },
  {
   "cell_type": "code",
   "execution_count": 2,
   "metadata": {},
   "outputs": [],
   "source": [
    "# assume prices_A loaded already; rename Date → date to match news\n",
    "prices_A = prices_A.rename(columns={\"Date\": \"date\"})\n",
    "prices_A = prices_A.sort_values(\"date\").set_index(\"date\")\n"
   ]
  },
  {
   "cell_type": "code",
   "execution_count": 3,
   "metadata": {},
   "outputs": [
    {
     "ename": "ImportError",
     "evalue": "/home/yeab/Predicting-Price-Moves-with-News-Sentiment/.venv/lib/python3.12/site-packages/talib/_ta_lib.cpython-312-x86_64-linux-gnu.so: undefined symbol: TA_AVGDEV_Lookback",
     "output_type": "error",
     "traceback": [
      "\u001b[31m---------------------------------------------------------------------------\u001b[39m",
      "\u001b[31mImportError\u001b[39m                               Traceback (most recent call last)",
      "\u001b[36mCell\u001b[39m\u001b[36m \u001b[39m\u001b[32mIn[3]\u001b[39m\u001b[32m, line 1\u001b[39m\n\u001b[32m----> \u001b[39m\u001b[32m1\u001b[39m \u001b[38;5;28;01mimport\u001b[39;00m\u001b[38;5;250m \u001b[39m\u001b[34;01mtalib\u001b[39;00m\n\u001b[32m      3\u001b[39m \u001b[38;5;66;03m# moving averages\u001b[39;00m\n\u001b[32m      4\u001b[39m prices_A[\u001b[33m\"\u001b[39m\u001b[33mMA_20\u001b[39m\u001b[33m\"\u001b[39m] = talib.SMA(prices_A[\u001b[33m\"\u001b[39m\u001b[33mClose\u001b[39m\u001b[33m\"\u001b[39m], timeperiod=\u001b[32m20\u001b[39m)\n",
      "\u001b[36mFile \u001b[39m\u001b[32m~/Predicting-Price-Moves-with-News-Sentiment/.venv/lib/python3.12/site-packages/talib/__init__.py:109\u001b[39m\n\u001b[32m    105\u001b[39m \u001b[38;5;28;01melse\u001b[39;00m:\n\u001b[32m    106\u001b[39m     _wrapper = \u001b[38;5;28;01mlambda\u001b[39;00m x: x\n\u001b[32m--> \u001b[39m\u001b[32m109\u001b[39m \u001b[38;5;28;01mfrom\u001b[39;00m\u001b[38;5;250m \u001b[39m\u001b[34;01m.\u001b[39;00m\u001b[34;01m_ta_lib\u001b[39;00m\u001b[38;5;250m \u001b[39m\u001b[38;5;28;01mimport\u001b[39;00m (\n\u001b[32m    110\u001b[39m     _ta_initialize, _ta_shutdown, MA_Type, __ta_version__,\n\u001b[32m    111\u001b[39m     _ta_set_unstable_period \u001b[38;5;28;01mas\u001b[39;00m set_unstable_period,\n\u001b[32m    112\u001b[39m     _ta_get_unstable_period \u001b[38;5;28;01mas\u001b[39;00m get_unstable_period,\n\u001b[32m    113\u001b[39m     _ta_set_compatibility \u001b[38;5;28;01mas\u001b[39;00m set_compatibility,\n\u001b[32m    114\u001b[39m     _ta_get_compatibility \u001b[38;5;28;01mas\u001b[39;00m get_compatibility,\n\u001b[32m    115\u001b[39m     __TA_FUNCTION_NAMES__\n\u001b[32m    116\u001b[39m )\n\u001b[32m    118\u001b[39m \u001b[38;5;66;03m# import all the func and stream functions\u001b[39;00m\n\u001b[32m    119\u001b[39m \u001b[38;5;28;01mfrom\u001b[39;00m\u001b[38;5;250m \u001b[39m\u001b[34;01m.\u001b[39;00m\u001b[34;01m_ta_lib\u001b[39;00m\u001b[38;5;250m \u001b[39m\u001b[38;5;28;01mimport\u001b[39;00m *\n",
      "\u001b[31mImportError\u001b[39m: /home/yeab/Predicting-Price-Moves-with-News-Sentiment/.venv/lib/python3.12/site-packages/talib/_ta_lib.cpython-312-x86_64-linux-gnu.so: undefined symbol: TA_AVGDEV_Lookback"
     ]
    }
   ],
   "source": [
    "import talib\n",
    "\n",
    "# moving averages\n",
    "prices_A[\"MA_20\"] = talib.SMA(prices_A[\"Close\"], timeperiod=20)\n",
    "prices_A[\"MA_50\"] = talib.SMA(prices_A[\"Close\"], timeperiod=50)\n",
    "# RSI\n",
    "prices_A[\"RSI_14\"] = talib.RSI(prices_A[\"Close\"], timeperiod=14)\n",
    "# MACD (returns macd, signal, hist)\n",
    "macd, macd_signal, macd_hist = talib.MACD(\n",
    "    prices_A[\"Close\"], fastperiod=12, slowperiod=26, signalperiod=9\n",
    ")\n",
    "prices_A[\"MACD\"] = macd\n",
    "prices_A[\"MACD_signal\"] = macd_signal\n"
   ]
  }
 ],
 "metadata": {
  "kernelspec": {
   "display_name": ".venv",
   "language": "python",
   "name": "python3"
  },
  "language_info": {
   "codemirror_mode": {
    "name": "ipython",
    "version": 3
   },
   "file_extension": ".py",
   "mimetype": "text/x-python",
   "name": "python",
   "nbconvert_exporter": "python",
   "pygments_lexer": "ipython3",
   "version": "3.12.3"
  }
 },
 "nbformat": 4,
 "nbformat_minor": 2
}
